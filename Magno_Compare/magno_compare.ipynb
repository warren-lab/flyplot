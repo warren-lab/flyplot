{
 "cells": [
  {
   "cell_type": "markdown",
   "metadata": {},
   "source": [
    "# Magnotether Experimental Comparison Between Looping and Static LED\n",
    "\n",
    "This jupyter notebook will display figures and statistics regarding this comparison and try to develop some conclusions regarding this analysis.\n",
    "\n",
    "All figures are developed will be placed in the figs folder labeled based on the section number within the notebook. \n",
    "\n",
    "`Ex: Fig-1_1 which corresponds to Figure from the first subsection of section 1`\n",
    "\n",
    "See the Table of contents below in order to navigate to the different sections of the notebook."
   ]
  },
  {
   "cell_type": "markdown",
   "metadata": {},
   "source": [
    "### VERSION NOTICE (v1.0)\n",
    "- Current version is meant to have a working base comparison method\n",
    "- Next version will focus on the method of duplication and creation of fresh directory for the user to work and to ensure that the baseline file is in a read-only mode but the user will be able to edit subsequent copies..."
   ]
  },
  {
   "cell_type": "markdown",
   "metadata": {},
   "source": [
    "## Table of Contents\n",
    "\n",
    "-------------------------------------------------\n",
    "[Import Relevant Packages](#import-libraries)\n",
    "\n",
    "-------------------------------------------------\n",
    "[1. Static Data Analysis](#1-static-data-analysis)\n",
    "\n",
    "> [1.1 Static Data Import](#11-data-import)\n",
    "\n",
    "> [1.2 Initial Plot of Static Experiment](#12-initial-plot-of-static-experiment)\n",
    "\n",
    "> [1.3 Plot of Female Fly Data](#13-plot-of-female-fly-data)\n",
    "\n",
    "> [1.4 Plot of Female Fly Data Relative to LED](#14-plot-of-female-fly-data-relative-to-led)\n",
    "\n",
    "> [1.5 Polar Plot Female Fly Data (Relative to LED)](#15-polar-plot-female-fly-data-relative-to-led)\n",
    "\n",
    "----------------------------------------------------\n",
    "[2. Loop Data Analysis](#2-loop-data-analysis)\n",
    "\n",
    "> [2.1 Loop Data Import](#21-data-import)\n",
    "\n",
    "> [2.2 Initial Plot of Section of Loop Experiment](#22-initial-plot-of-section-of-loop-experiment)\n",
    "\n",
    "> [2.3 Plot of Female Fly Data Relative To LED](#23-plot-of-female-fly-data-relative-to-led)\n",
    "\n",
    "> [2.4 Offset Plot for Loop Data](#24-offset-plot-for-loop-data)\n",
    "\n",
    "> [2.5 Polar Plot (Relative to LED)](#25-offset-plot-polar-plot)\n"
   ]
  },
  {
   "cell_type": "markdown",
   "metadata": {},
   "source": [
    "#### (Optional) Additional Information For Data Access\n",
    "> For using this jupyter notebook a lot of the analysis considers images located on an external machine (unless you are currently using that machine). This notebook thus has data import methods for both external access and direct access of the image files.\n",
    "\n",
    "For the external access ensure that the following is completed... However, the majority of analysis images that will be analyzed will be included within this repo. The inital formulation of these images and getting more images saved directly will require the external access which is why it is recommended that the following steps are followed:\n",
    "\n",
    "1. Set mount point in home directory\n",
    "```\n",
    "mkdir magno_mount\n",
    "```\n",
    "\n",
    "2. Using SSHFS set the mount\n",
    "```\n",
    "sshfs flyranch@IPADDRESS: /home/username/magno_mount/\n",
    "```\n",
    "\n",
    "3. Connection has been established now you can navigate to the proper directory\n",
    "\n",
    "This will be done later within this notebook as well for the access of the images, but if you are wanting to look at some of these \n",
    "images on your own machine within the mount point this is the directory that will be used\n",
    "```\n",
    "cd image_data/20231121/fly1/20231121124749/\n",
    "```\n",
    "\n",
    "With the relevant dependancies and connections established, proceed through the rest of the notebook."
   ]
  },
  {
   "cell_type": "markdown",
   "metadata": {},
   "source": [
    "## Import Libraries"
   ]
  },
  {
   "cell_type": "code",
   "execution_count": null,
   "metadata": {},
   "outputs": [],
   "source": [
    "import sys\n",
    "import os\n",
    "import os.path\n",
    "import numpy as np\n",
    "import matplotlib.pyplot as plt\n",
    "current_dir = os.path.dirname(os.getcwd())\n",
    "print(current_dir)\n",
    "# plot_dir = os.path.join(current_dir,'plotting')\n",
    "sys.path.append(current_dir)\n",
    "# print(sys.path)\n",
    "from plotting import polarplot as polarplt# polar plotting module\n",
    "from parsing import basic_sections as bsc_sec,  data_range as dat_rng, exact_exp_groups as exct_groups# data parsing methods"
   ]
  },
  {
   "cell_type": "markdown",
   "metadata": {},
   "source": [
    "## 1. Static Data Analysis"
   ]
  },
  {
   "cell_type": "markdown",
   "metadata": {},
   "source": [
    "#### 1.1 Data Import"
   ]
  },
  {
   "cell_type": "markdown",
   "metadata": {},
   "source": [
    "#### 1.2 Initial Plot of Static Experiment"
   ]
  },
  {
   "cell_type": "markdown",
   "metadata": {},
   "source": [
    "#### 1.3 Plot of Female Fly Data"
   ]
  },
  {
   "cell_type": "markdown",
   "metadata": {},
   "source": [
    "#### 1.4 Plot of Female Fly Data Relative to LED"
   ]
  },
  {
   "cell_type": "markdown",
   "metadata": {},
   "source": [
    "#### 1.5 Polar Plot Female Fly Data (Relative to LED)"
   ]
  },
  {
   "cell_type": "markdown",
   "metadata": {},
   "source": [
    "## 2. Loop Data Analysis"
   ]
  },
  {
   "cell_type": "markdown",
   "metadata": {},
   "source": [
    "#### 2.1 Data Import"
   ]
  },
  {
   "cell_type": "code",
   "execution_count": null,
   "metadata": {},
   "outputs": [],
   "source": [
    "asdf"
   ]
  },
  {
   "cell_type": "code",
   "execution_count": null,
   "metadata": {},
   "outputs": [],
   "source": [
    "asdf"
   ]
  },
  {
   "cell_type": "code",
   "execution_count": null,
   "metadata": {},
   "outputs": [],
   "source": [
    "asdf"
   ]
  },
  {
   "cell_type": "code",
   "execution_count": null,
   "metadata": {},
   "outputs": [],
   "source": [
    "asdf"
   ]
  },
  {
   "cell_type": "code",
   "execution_count": null,
   "metadata": {},
   "outputs": [],
   "source": [
    "asdf"
   ]
  },
  {
   "cell_type": "code",
   "execution_count": null,
   "metadata": {},
   "outputs": [],
   "source": []
  },
  {
   "cell_type": "markdown",
   "metadata": {},
   "source": [
    "#### 2.2 Initial Plot of Section of Loop Experiment"
   ]
  },
  {
   "cell_type": "markdown",
   "metadata": {},
   "source": [
    "#### 2.3 Plot of Female Fly Data Relative To LED"
   ]
  },
  {
   "cell_type": "markdown",
   "metadata": {},
   "source": [
    "#### 2.4 Offset Plot for Loop Data"
   ]
  },
  {
   "cell_type": "markdown",
   "metadata": {},
   "source": [
    "#### 2.5 Offset Plot Polar Plot\n",
    "... -> AKA just loop data for static and loop periods where it is the mean heading and vector strength realtive to LED\n"
   ]
  },
  {
   "cell_type": "markdown",
   "metadata": {},
   "source": []
  }
 ],
 "metadata": {
  "kernelspec": {
   "display_name": "Warren_Lab",
   "language": "python",
   "name": "python3"
  },
  "language_info": {
   "codemirror_mode": {
    "name": "ipython",
    "version": 3
   },
   "file_extension": ".py",
   "mimetype": "text/x-python",
   "name": "python",
   "nbconvert_exporter": "python",
   "pygments_lexer": "ipython3",
   "version": "3.9.7"
  }
 },
 "nbformat": 4,
 "nbformat_minor": 2
}
