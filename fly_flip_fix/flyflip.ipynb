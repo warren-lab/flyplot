{
 "cells": [
  {
   "cell_type": "markdown",
   "metadata": {},
   "source": [
    "# Fly Flip Notebook\n",
    "- First label images front and back\n",
    "Then what we will do and then we can see if they face the front\n",
    "- First orient all the images so they face the front...\n",
    "- Second we will take the mean mask and ensure that it is oriented in the center so all masks need to be centered in the image\n",
    "-\n",
    "\n",
    "Will then use the average/mean mask as a template. With this template we should be able to compare to the original images and then determine the orientation.\n",
    "\n",
    "Then will examine effectivness on test dataset.."
   ]
  },
  {
   "cell_type": "markdown",
   "metadata": {},
   "source": [
    "## Import Libraries"
   ]
  },
  {
   "cell_type": "code",
   "execution_count": null,
   "metadata": {},
   "outputs": [],
   "source": [
    "# Import Libraries\n",
    "import sys\n",
    "import os\n",
    "import os.path\n",
    "import numpy as np\n",
    "import pandas as pd\n",
    "import matplotlib.pyplot as plt\n",
    "from matplotlib.lines import Line2D\n",
    "import cv2\n",
    "import copy\n",
    "current_dir = os.path.dirname(os.getcwd())\n",
    "print(current_dir)\n",
    "# plot_dir = os.path.join(current_dir,'plotting')\n",
    "sys.path.append(current_dir)\n",
    "# print(sys.path)\n",
    "from lib.plotting import polarplot as polarplt# polar plotting module\n",
    "from lib.parsing import basic_sections as bsc_sec # basic data parsing methods\n",
    "from lib.parsing.data_range import find_startdata, find_enddata # setting start and end of analysis region \n",
    "from lib.parsing.exact_exp_groups import sub_exp_group  # more dataparsing methods\n",
    "from lib.led_convert import get_LED_angle_in_rad\n",
    "from lib.plotting.flyviz import get_contour_centroid, get_objectmask, get_fill_flymask, contour_hrz_matrix\n",
    "from scipy import interpolate\n",
    "from find_fly_angle.find_fly_anglev2 import *"
   ]
  },
  {
   "cell_type": "markdown",
   "metadata": {},
   "source": [
    "## Set Data Source\n",
    "This path is what will be utilized in the labelling and testing phases."
   ]
  },
  {
   "cell_type": "code",
   "execution_count": null,
   "metadata": {},
   "outputs": [
    {
     "ename": "",
     "evalue": "",
     "output_type": "error",
     "traceback": [
      "\u001b[1;31mRunning cells with 'Python 3.9.6' requires the ipykernel package.\n",
      "\u001b[1;31mRun the following command to install 'ipykernel' into the Python environment. \n",
      "\u001b[1;31mCommand: '/usr/bin/python3 -m pip install ipykernel -U --user --force-reinstall'"
     ]
    }
   ],
   "source": [
    "# Path to images\n",
    "l = glob.glob('C:/Users/lkrow/Desktop/20240502125110/*.png')\n",
    "\n",
    "## Check for image in data source (OPTIONAL)\n",
    "for f in range(len(l)):\n",
    "# np.where(file.split('/')[-1].strip('.png') == 20240502125110_5669')\n",
    "    if l[f].split('/')[-1].split('\\\\')[-1].strip('.png') == '20240502125110_1332':\n",
    "        print(f)"
   ]
  },
  {
   "cell_type": "markdown",
   "metadata": {},
   "source": [
    "## Test Image\n",
    "Using an internal image associated with this package the `contour_hrz_matrix` method can be tested.\n",
    "\n",
    "Alternatively, you can utilize a different path to source the image."
   ]
  },
  {
   "cell_type": "code",
   "execution_count": null,
   "metadata": {},
   "outputs": [],
   "source": [
    "file =\"20240415120905_0121\"\n",
    "file_name = \"imgs/\" + file +\".png\"\n",
    "fly_mask_orig, fly_mask_hrz,max_contour_hrz,centroid_hrz, body_axis_pt_0_hrz,body_axis_pt_1_hrz, angle_og, angle_rot = contour_hrz_matrix(file_name)"
   ]
  },
  {
   "cell_type": "code",
   "execution_count": null,
   "metadata": {},
   "outputs": [],
   "source": [
    "plt.figure(figsize=(20,20))\n",
    "mask_fly = get_objectmask(fly_mask_hrz,max_contour_hrz)\n",
    "\n",
    "cv2.circle(mask_fly,body_axis_pt_0_hrz,10, color = (255,255,0),thickness =3)\n",
    "cv2.circle(mask_fly,body_axis_pt_1_hrz,10, color = (255,255,0),thickness =3)\n",
    "cv2.line(mask_fly,body_axis_pt_0_hrz,body_axis_pt_1_hrz,color = (255,255,0), thickness = 2)\n",
    "cv2.circle(mask_fly,centroid_hrz,10,color = (0,255,255),thickness=3)\n",
    "plt.imshow(mask_fly)"
   ]
  },
  {
   "cell_type": "markdown",
   "metadata": {},
   "source": [
    "## Labeling\n",
    "After verifying that your dependancies are working, proceed to label 20 random images of flies from the path provided initially. The labeling process is to assign each image an indication of whether or not the Non Rotated or Rotated image best represents a Fly.\n",
    "\n",
    "Three Images will be displayed, with the first image represeting the original fly orientation, the second the rotated and transformed fly based on it's orientation (which will allow it to be oriented along the central vertical axis). The last image is a subsequent 180 degree rotation of the fly after the initial rotation and transformation....\n",
    "\n",
    "Essentially the labeling is a selection between the last two images. After making this selection that image will be saved in order to generate an average mask.\n",
    "\n",
    "The Criteria for Labeling:\n",
    "- Fly head facing up in an image then use the respective 'No Rot' or 'Rot' to assign that image to the fly.s"
   ]
  },
  {
   "cell_type": "code",
   "execution_count": null,
   "metadata": {},
   "outputs": [],
   "source": [
    "imgs = {}\n",
    "import time\n",
    "import glob\n",
    "import random\n",
    "def img_label(filename):\n",
    "    \"\"\"\n",
    "    For each image we will need to ensure that the proper rotation is performed such that it is in the \n",
    "    top down rotation\n",
    "    \n",
    "    \"\"\"\n",
    "    fly_mask_orig, fly_mask_hrz,max_contour_hrz,centroid_hrz, body_axis_pt_0_hrz,body_axis_pt_1_hrz,angle_og,angle_rot= contour_hrz_matrix(filename)\n",
    "# mask_fly_norot = get_objectmask(fly_mask_hrz,max_contour_hrz)\n",
    "    mask_fly_rot = cv2.rotate(copy.deepcopy(fly_mask_hrz),cv2.ROTATE_180)\n",
    "    dict_img ={\n",
    "        \"No Rot\": fly_mask_hrz,\n",
    "        \"Rot\":mask_fly_rot\n",
    "    }\n",
    "#     for i in range(1):\n",
    "    ## test various rotations (0 or 180)\n",
    "    fig = plt.figure(figsize=(20,20))\n",
    "    plt.subplot(1,3,1)\n",
    "    plt.title(\"Original\")\n",
    "    plt.imshow(fly_mask_orig,cmap='gray')\n",
    "    print(f\"<< Original Angle: {np.rad2deg(angle_og)} >>\")\n",
    "    plt.subplot(1,3,2)\n",
    "    plt.title(\"No Rotation\")\n",
    "    # print(\"No Rotation Angle:\",np.rad2deg(angle))\n",
    "    print(f\"<< No Rotation Angle: {np.rad2deg(angle_og)} >>\")\n",
    "    plt.imshow(fly_mask_hrz,cmap='gray')\n",
    "    plt.subplot(1,3,3)\n",
    "    plt.title(\"Rotation\")\n",
    "    print(f\"<< Rotation Angle: {np.rad2deg(angle_og)-180} >>\")\n",
    "    plt.imshow(mask_fly_rot,cmap='gray')\n",
    "    plt.show()\n",
    "    \n",
    "    fly_up = input(\"Input the name of No Rotation or Rotation depending on which one display fly pointed up. \")\n",
    "    mask_fly = dict_img[fly_up]\n",
    "    \n",
    "    return mask_fly"
   ]
  },
  {
   "cell_type": "code",
   "execution_count": null,
   "metadata": {},
   "outputs": [],
   "source": [
    "# get all of the files in the folder\n",
    "# shuffled_list = sorted(glob.glob('/media/flyranch/T7 Shield/flyflipimgs/20240502125110/*.png'), key=lambda x: random.random())\n",
    "shuffled_list = sorted(glob.glob('C:/Users/lkrow/Desktop/20240502125110/*.png'), key=lambda x: random.random())\n",
    "print(shuffled_list)\n",
    "for file in shuffled_list[:20]:\n",
    "    name = file.split('/')[-1].strip('.png')\n",
    "    mask_fly = img_label(file)\n",
    "    imgs[name] = mask_fly\n",
    "    # execute function and then add these images and etc to the dictionary"
   ]
  },
  {
   "cell_type": "markdown",
   "metadata": {},
   "source": [
    "## Average Fly Mask Template "
   ]
  },
  {
   "cell_type": "code",
   "execution_count": null,
   "metadata": {},
   "outputs": [],
   "source": [
    "### Now with all the images we will create a mean tempate mask\n",
    "final = []\n",
    "for img in imgs.keys():\n",
    "    final.append(imgs[img])\n",
    "# print(final)\n",
    "stacked = np.stack(final,axis=-1)\n",
    "avg_mask = np.mean(stacked, axis = -1)\n",
    "plt.figure(figsize=(20,20))\n",
    "plt.imshow(avg_mask,cmap = 'gray')"
   ]
  },
  {
   "cell_type": "code",
   "execution_count": null,
   "metadata": {},
   "outputs": [],
   "source": []
  },
  {
   "cell_type": "markdown",
   "metadata": {},
   "source": [
    "## MSE Comparison"
   ]
  },
  {
   "cell_type": "code",
   "execution_count": null,
   "metadata": {},
   "outputs": [],
   "source": [
    "## Test Image (18th image in the stack)\n",
    "img1 = imgs[list(imgs.keys())[18]].astype('float64')\n",
    "plt.figure(figsize=(20,20))\n",
    "plt.subplot(121)\n",
    "plt.title(\"Selected Rotation\")\n",
    "plt.imshow(img1) \n",
    "plt.subplot(122)\n",
    "plt.title(\"Alternative Rotation\")\n",
    "plt.imshow(cv2.rotate(img1,cv2.ROTATE_180))"
   ]
  },
  {
   "cell_type": "code",
   "execution_count": null,
   "metadata": {},
   "outputs": [],
   "source": [
    "## Comparison between two images\n",
    "def mse(img1, img2):\n",
    "    area_px = img1.shape[0]*img1.shape[1]\n",
    "    px_diff = cv2.subtract(img1, img2)\n",
    "    sum_err = np.sum(px_diff**2)\n",
    "    mse = sum_err/(float(area_px))\n",
    "    return mse\n",
    "error = mse(avg_mask,img1)\n",
    "error2 = mse(avg_mask,cv2.rotate(img1,cv2.ROTATE_180))\n",
    "print(\"No rotation:\",error)\n",
    "print(\"Rotation:\",error2)"
   ]
  },
  {
   "cell_type": "code",
   "execution_count": null,
   "metadata": {},
   "outputs": [],
   "source": [
    "fly_mask_hrz = fly_mask_hrz.astype('float64')\n",
    "error = mse(avg_mask,fly_mask_hrz)\n",
    "error2 = mse(avg_mask,cv2.rotate(fly_mask_hrz,cv2.ROTATE_180))\n",
    "print(\"No rotation:\",error)\n",
    "print(\"Rotation:\",error2)"
   ]
  },
  {
   "cell_type": "markdown",
   "metadata": {},
   "source": [
    "## Plot of MSE ERROR No Rotation vs Rotation for Large Dataset\n",
    "\n",
    "Using the average mask from before we will now look at all the images in the dataset to determine accuracy. "
   ]
  },
  {
   "cell_type": "markdown",
   "metadata": {},
   "source": []
  }
 ],
 "metadata": {
  "kernelspec": {
   "display_name": "Warren_Lab",
   "language": "python",
   "name": "python3"
  },
  "language_info": {
   "name": "python",
   "version": "3.9.6"
  }
 },
 "nbformat": 4,
 "nbformat_minor": 2
}
