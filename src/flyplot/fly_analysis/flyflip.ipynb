{
 "cells": [
  {
   "cell_type": "markdown",
   "metadata": {},
   "source": [
    "# Fly Flip Notebook\n",
    "\n",
    "This notebook allows a user to input their data path and generate an average mask of the fly for that experiment. Using this mask the computed orientation will be checked, and if needed realigned. As a result a new text file will be generated of angles that are more representative of the fly's pose. Finally, figures comparing the significance in the change can be developed.\n",
    "\n",
    "This entire process can be automatically performed, see the library's documentation for how to do so."
   ]
  },
  {
   "cell_type": "markdown",
   "metadata": {},
   "source": [
    "Phases:\n",
    "1. Import Depandencies\n",
    "2. Set Data Source\n",
    "3. Perform Image Labeling\n",
    "    - Currently using OpenCV Method\n",
    "    - Next Method: Using Tkinter GUI\n",
    "4. Development of Average Mask\n",
    "5. MSE Comparison\n",
    "6. Plot of MSE"
   ]
  },
  {
   "cell_type": "markdown",
   "metadata": {},
   "source": [
    "## Import Libraries"
   ]
  },
  {
   "cell_type": "code",
   "execution_count": null,
   "metadata": {},
   "outputs": [],
   "source": [
    "# Import Libraries\n",
    "import sys\n",
    "import os\n",
    "import random\n",
    "import os.path\n",
    "import numpy as np\n",
    "import pandas as pd\n",
    "import matplotlib.pyplot as plt\n",
    "from matplotlib.lines import Line2D\n",
    "import cv2\n",
    "import copy\n",
    "import glob\n",
    "import tkinter as tk\n",
    "current_dir = os.path.dirname(os.getcwd())\n",
    "print(current_dir)\n",
    "# plot_dir = os.path.join(current_dir,'plotting')\n",
    "sys.path.append(current_dir)\n",
    "# print(sys.path)\n",
    "# Import libraries regarding the trace...\n",
    "from flyplot.parsing.exact_exp_groups import sub_exp_groupv2  # more dataparsing methods\n",
    "from flyplot.led_convert import get_LED_angle_in_rad\n",
    "from flyplot.plotting import polarplot as polarplt # polar plotting module\n",
    "from flyplot.led_convert import get_LED_angle_in_rad\n",
    "from flyplot.plotting.flyviz import get_objectmask, contour_hrz_matrix\n",
    "from flyplot.data.data_loader import data_loader\n",
    "from flyplot.fly_analysis.compare import mse, data_mse, img_label\n",
    "from flyplot.parsing import fly_wrap\n",
    "# import example data\n",
    "# from scipy import interpolate\n",
    "from find_fly_angle.find_fly_anglev2 import *"
   ]
  },
  {
   "cell_type": "markdown",
   "metadata": {},
   "source": [
    "## Set Data Source"
   ]
  },
  {
   "cell_type": "markdown",
   "metadata": {},
   "source": [
    "Provide path to the image and text dataset that will be referenced throughout this notebook.\n",
    "\n",
    "Examples:\n",
    "\n",
    "* MacOS\n",
    "    \n",
    "    `data = glob.glob('/Volumes/No Name/20240502125110/*.png')`\n",
    "\n",
    "* Windows\n",
    "\n",
    "    `data = glob.glob('D:/20240502125110/*.png')`\n",
    "    \n",
    "    \n",
    "* Linux\n",
    "\n",
    "    `data = glob.glob('/media/user_name/D5E2-7968/20240502125110/*.png')`"
   ]
  },
  {
   "cell_type": "code",
   "execution_count": 4,
   "metadata": {},
   "outputs": [],
   "source": [
    "imgs_source = '/media/loganrower/D5E2-7968/20240502125110/*.png'"
   ]
  },
  {
   "cell_type": "code",
   "execution_count": 5,
   "metadata": {},
   "outputs": [],
   "source": [
    "txt_source = '/media/loganrower/D5E2-7968/20240502125110_data/20240502125110.txt'"
   ]
  },
  {
   "cell_type": "code",
   "execution_count": null,
   "metadata": {},
   "outputs": [],
   "source": [
    "exp_date = None"
   ]
  },
  {
   "cell_type": "code",
   "execution_count": 6,
   "metadata": {},
   "outputs": [],
   "source": [
    "# Path to Image Dataset\n",
    "img_data = glob.glob(imgs_source)\n",
    "# Path to Text Data\n",
    "txt_data = txt_source  "
   ]
  },
  {
   "cell_type": "markdown",
   "metadata": {},
   "source": [
    "Determine the number of images in the dataset"
   ]
  },
  {
   "cell_type": "code",
   "execution_count": 7,
   "metadata": {},
   "outputs": [
    {
     "data": {
      "text/plain": [
       "8862"
      ]
     },
     "execution_count": 7,
     "metadata": {},
     "output_type": "execute_result"
    }
   ],
   "source": [
    "len(img_data)"
   ]
  },
  {
   "cell_type": "markdown",
   "metadata": {},
   "source": [
    "## (Optional) Test Image\n",
    "\n",
    "To ensure that all dependancies are working appropriately, an image source internally within this package will be used to test the `contour_hrz_matrix` method.\n",
    "\n",
    "Alternatively, you can utilize a different image."
   ]
  },
  {
   "cell_type": "code",
   "execution_count": null,
   "metadata": {},
   "outputs": [],
   "source": [
    "# Load in Example Data:\n",
    "sample_figs = data_loader()['figs']\n",
    "sample_imgs = data_loader()['imgs']\n",
    "sample_raw_dat =data_loader()['raw_data']\n",
    "# Example Image:\n",
    "file = '20240502125110_7355' # 5244\n",
    "file_name = None\n",
    "for img in sample_imgs:\n",
    "    if  os.path.basename(img).strip('.png') == file:\n",
    "        file_name = img\n",
    "# file =\"20240415120905_0121\" \n",
    "# file_name = \"imgs/\" + file +\".png\"\n",
    "fly_mask_orig, fly_mask_hrz,max_contour_hrz,centroid_hrz, body_axis_pt_0_hrz,body_axis_pt_1_hrz, angle_og, angle_rot = contour_hrz_matrix(file_name)\n"
   ]
  },
  {
   "cell_type": "code",
   "execution_count": null,
   "metadata": {},
   "outputs": [],
   "source": [
    "plt.figure(figsize=(20,20))\n",
    "mask_fly = get_objectmask(fly_mask_hrz,max_contour_hrz)\n",
    "\n",
    "cv2.circle(mask_fly,body_axis_pt_0_hrz,10, color = (255,255,0),thickness =3)\n",
    "cv2.circle(mask_fly,body_axis_pt_1_hrz,10, color = (255,255,0),thickness =3)\n",
    "cv2.line(mask_fly,body_axis_pt_0_hrz,body_axis_pt_1_hrz,color = (255,255,0), thickness = 2)\n",
    "cv2.circle(mask_fly,centroid_hrz,10,color = (0,255,255),thickness=3)\n",
    "plt.imshow(mask_fly)"
   ]
  },
  {
   "cell_type": "markdown",
   "metadata": {},
   "source": [
    "## Labeling\n",
    "After verifying that your dependancies are working, proceed to label 20 random images of flies from the path provided initially. The labeling process is to assign each image an indication of whether or not the Non Rotated or Rotated image best represents a Fly.\n",
    "\n",
    "Three Images will be displayed, with the first image represeting the original fly orientation, the second the rotated and transformed fly based on it's orientation (which will allow it to be oriented along the central vertical axis). The last image is a subsequent 180 degree rotation of the fly after the initial rotation and transformation....\n",
    "\n",
    "Essentially the labeling is a selection between the last two images. After making this selection that image will be saved in order to generate an average mask.\n",
    "\n",
    "The Criteria for Labeling:\n",
    "- Fly head facing up in an image then use the respective 'n' or 'r' to assign that image to the fly. with `n` corresponding to `No Rotation` and `r` corresponding to `Rotation`"
   ]
  },
  {
   "cell_type": "code",
   "execution_count": null,
   "metadata": {},
   "outputs": [],
   "source": [
    "imgs = {}\n",
    "# get all of the files in the folder\n",
    "shuffled_list = sorted(img_data , key=lambda x: random.random())\n",
    "print(shuffled_list)\n",
    "for file in shuffled_list[:20]:\n",
    "    name = file.split('/')[-1].strip('.png')\n",
    "    mask_fly = img_label(file)\n",
    "    imgs[name] = mask_fly\n",
    "    # execute function and then add these images and etc to the dictionary"
   ]
  },
  {
   "cell_type": "markdown",
   "metadata": {},
   "source": [
    "## Average Fly Mask Template \n",
    "Using the 20 labelled images, a grayscale template mask will be developed of the fly facing upward. This average mask will then be tested against all images in the dataset to determine correct orientation."
   ]
  },
  {
   "cell_type": "code",
   "execution_count": null,
   "metadata": {},
   "outputs": [],
   "source": [
    "### Now with all the images we will create a mean tempate mask\n",
    "final = []\n",
    "for img in imgs.keys():\n",
    "    final.append(imgs[img])\n",
    "# print(final)\n",
    "stacked = np.stack(final,axis=-1)\n",
    "avg_mask = np.mean(stacked, axis = -1)\n",
    "plt.figure(figsize=(20,20))\n",
    "plt.imshow(avg_mask,cmap = 'gray')"
   ]
  },
  {
   "cell_type": "markdown",
   "metadata": {},
   "source": [
    "## MSE Comparison\n",
    "The entire image dataset will be tested against this average mask to determine the correct orientation of the fly. The MSE Rot and MSE No Rot will be logged as well as whether fly is No Rot or Rot."
   ]
  },
  {
   "cell_type": "code",
   "execution_count": null,
   "metadata": {},
   "outputs": [],
   "source": [
    "imgs[list(imgs.keys())[0]].dtype\n",
    "img1 = imgs[list(imgs.keys())[18]].astype('float64')\n",
    "error = mse(avg_mask,img1)\n",
    "error2 = mse(avg_mask,cv2.rotate(img1,cv2.ROTATE_180))\n",
    "print(\"No rotation:\",error)\n",
    "print(\"Rotation:\",error2)"
   ]
  },
  {
   "cell_type": "code",
   "execution_count": null,
   "metadata": {},
   "outputs": [],
   "source": [
    "img_path = np.random.choice(img_data)\n",
    "# img_path = ('/media/loganrower/D5E2-7968/20240502125110/20240502125110_7355.png')\n",
    "fly_mask_orig1, fly_mask_hrz1,max_contour_hrz,centroid_hrz, body_axis_pt_0_hrz,body_axis_pt_1_hrz,angle_og,angle_rot= contour_hrz_matrix(img_path)\n",
    "img1 = fly_mask_hrz1.astype('float64')\n",
    "error = mse(avg_mask,img1)\n",
    "error2 = mse(avg_mask,cv2.rotate(img1,cv2.ROTATE_180))\n",
    "print(\"------------\")\n",
    "print(angle_og)\n",
    "print(np.rad2deg(angle_og))\n",
    "print(polarplt.deg360to180(np.rad2deg(angle_og)-180))\n",
    "print(angle_rot)\n",
    "print(np.rad2deg(angle_rot))\n"
   ]
  },
  {
   "cell_type": "code",
   "execution_count": null,
   "metadata": {},
   "outputs": [],
   "source": [
    "mask_fly_rot1 = cv2.rotate(copy.deepcopy(fly_mask_hrz1),cv2.ROTATE_180)\n",
    "\n",
    "fig = plt.figure(figsize=(20,20))\n",
    "plt.subplot(1,3,1)\n",
    "plt.title(\"Original\")\n",
    "plt.imshow(fly_mask_orig1,cmap='gray')\n",
    "print(f\"<< Original Angle: {np.rad2deg(angle_og)} >>\")\n",
    "plt.subplot(1,3,2)\n",
    "plt.title(\"No Rotation\")\n",
    "# print(\"No Rotation Angle:\",np.rad2deg(angle))\n",
    "print(f\"<< No Rotation Angle: {np.rad2deg(angle_og)} >>\")\n",
    "plt.imshow(fly_mask_hrz1,cmap='gray')\n",
    "plt.subplot(1,3,3)\n",
    "plt.title(\"Rotation\")\n",
    "print(f\"<< Rotation Angle: {polarplt.deg360to180(np.rad2deg(angle_og)-180)} >>\")\n",
    "plt.imshow(mask_fly_rot1,cmap='gray')\n",
    "plt.show()"
   ]
  },
  {
   "cell_type": "code",
   "execution_count": null,
   "metadata": {},
   "outputs": [],
   "source": [
    "print(\"No rotation:\",error)\n",
    "print(\"Rotation:\",error2)"
   ]
  },
  {
   "cell_type": "markdown",
   "metadata": {},
   "source": [
    "The `data_mse` function can take from 10-15 min based on size of the dataset."
   ]
  },
  {
   "cell_type": "code",
   "execution_count": null,
   "metadata": {},
   "outputs": [],
   "source": [
    "results = data_mse(img_data,avg_mask)\n",
    "results"
   ]
  },
  {
   "cell_type": "markdown",
   "metadata": {},
   "source": [
    "The dictionary is then transformed into a dataframe for additional processing and subsequent plotting"
   ]
  },
  {
   "cell_type": "code",
   "execution_count": null,
   "metadata": {},
   "outputs": [],
   "source": [
    "results_df = pd.DataFrame(results)\n",
    "results_df.head()"
   ]
  },
  {
   "cell_type": "markdown",
   "metadata": {},
   "source": [
    "# Plot all data"
   ]
  },
  {
   "cell_type": "code",
   "execution_count": 25,
   "metadata": {},
   "outputs": [
    {
     "data": {
      "text/plain": [
       "<matplotlib.legend.Legend at 0x7f15a048d130>"
      ]
     },
     "execution_count": 25,
     "metadata": {},
     "output_type": "execute_result"
    },
    {
     "data": {
      "image/png": "[encoded data removed]",
      "text/plain": [
       "<Figure size 640x480 with 1 Axes>"
      ]
     },
     "metadata": {},
     "output_type": "display_data"
    }
   ],
   "source": [
    "max_norot= max(list(map(lambda t:t[0],results_df['MSE'])))\n",
    "max_rot = max(list(map(lambda t:t[1],results_df['MSE'])))\n",
    "plt.scatter(results_df['MSE'].apply(lambda x: x[0]),results_df['MSE'].apply(lambda x: x[1]),label = 'All MSE')\n",
    "plt.plot(np.arange(max((max_norot,max_rot))+1),np.arange(max((max_norot,max_rot))+1),color = 'k')\n",
    "plt.xlabel('MSE No Rotation')\n",
    "plt.ylabel('MSE Rotation')\n",
    "plt.legend()\n",
    "plt.savefig('figs/MSE_norotvrot.png')"
   ]
  },
  {
   "cell_type": "markdown",
   "metadata": {},
   "source": [
    "## Plot of MSE ERROR No Rotation vs Rotation for Large Dataset\n",
    "\n",
    "Using the average mask from before we will now look at all the images in the dataset to determine accuracy. "
   ]
  },
  {
   "cell_type": "code",
   "execution_count": null,
   "metadata": {},
   "outputs": [],
   "source": [
    "# Plot Type MSE NO ROTATION with VALUE MSE (X AXIS)\n",
    "mse_norot = results_df[results_df['type']=='MSE No Rotation']\n",
    "print(mse_norot)\n",
    "mse_rot = results_df[results_df['type']=='MSE Rotation']\n",
    "print(mse_rot)"
   ]
  },
  {
   "cell_type": "code",
   "execution_count": null,
   "metadata": {},
   "outputs": [],
   "source": [
    "max_norot= max(list(map(lambda t:t[0],results_df['MSE'])))\n",
    "max_rot = max(list(map(lambda t:t[1],results_df['MSE'])))\n",
    "plt.scatter(mse_norot['MSE'].apply(lambda x: x[0]),mse_norot['MSE'].apply(lambda x: x[1]),label = 'Class: No Rotation')\n",
    "plt.scatter(mse_rot['MSE'].apply(lambda x: x[0]),mse_rot['MSE'].apply(lambda x: x[1]),label = 'Class: Rotation')\n",
    "plt.plot(np.arange(max((max_norot,max_rot))+1),np.arange(max((max_norot,max_rot))+1),color = 'k')\n",
    "plt.xlabel('MSE No Rotation')\n",
    "plt.ylabel('MSE Rotation')\n",
    "plt.legend()\n",
    "plt.savefig('figs/MSE_norotvrot_classes.png')"
   ]
  },
  {
   "cell_type": "markdown",
   "metadata": {},
   "source": [
    "# Original Fly Trace"
   ]
  },
  {
   "cell_type": "code",
   "execution_count": null,
   "metadata": {},
   "outputs": [],
   "source": [
    "# data source\n",
    "print(\"Does the text file exist: \",os.path.exists(txt_data))\n",
    "# female fly heading and led position data\n",
    "df_fem_static = pd.read_csv(txt_data , names = ['time','fly heading','led position'],sep = \" \")\n",
    "# compute change over time\n",
    "df_fem_static['delta-t'] = df_fem_static['time'] - df_fem_static['time'][0] \n",
    "# compute LED position in degrees\n",
    "df_fem_static['led angle'] = np.rad2deg(get_LED_angle_in_rad(df_fem_static['led position'])) \n",
    "# get the experimental sub groups\n",
    "fly_dict = sub_exp_groupv2(df_fem_static)\n",
    "fly_dict\n",
    "\n"
   ]
  },
  {
   "cell_type": "code",
   "execution_count": null,
   "metadata": {},
   "outputs": [],
   "source": [
    "plt.figure(figsize=(36,12))\n",
    "# iterate over the sections\n",
    "for k in list(fly_dict.keys()):\n",
    "    start = fly_dict[k][0]\n",
    "    end = fly_dict[k][1]\n",
    "    # print(start,end)\n",
    "    plt.plot(df_fem_static['delta-t'][start:end],df_fem_static['fly heading'][start:end],color = 'tab:blue', linewidth = .5, label = 'Heading')\n",
    "    plt.plot(df_fem_static['delta-t'][start:end+1],df_fem_static['led angle'][start:end+1],color = 'tab:red', linewidth = 1, label = 'LED')\n",
    "plt.title(\"Female Fly 20231228154547\")\n",
    "plt.xlabel(\"time\")\n",
    "plt.ylabel(\"Heading/LED Angle\")\n",
    "plt.savefig(f'figs/{exp_date}_Heading_LEDvSec.png')\n",
    "plt.savefig(f'figs/{exp_date}_Heading_LEDvSec.svg')"
   ]
  },
  {
   "cell_type": "markdown",
   "metadata": {},
   "source": [
    "# Reestablish a new Textfile \n",
    "dataframe to textfile"
   ]
  },
  {
   "cell_type": "code",
   "execution_count": null,
   "metadata": {},
   "outputs": [],
   "source": [
    "# To the dataframe add the LED positions and the time values from the original textfile...\n",
    "led_pos = df_fem_static['led position']\n",
    "time_txt = df_fem_static['time']\n",
    "results_df = results_df.sort_values(by='file')\n",
    "results_df =results_df.reset_index(drop = True)\n",
    "# Sort by time\n",
    "results_df\n"
   ]
  },
  {
   "cell_type": "code",
   "execution_count": 29,
   "metadata": {},
   "outputs": [],
   "source": [
    "# Time, Angle, Led Position\n",
    "results_df['time'] = time_txt\n",
    "results_df['led position'] = led_pos\n",
    "# Rewrite\n",
    "results_df.to_csv(f'revised_{exp_date}.txt',sep=' ', header=False)"
   ]
  },
  {
   "cell_type": "code",
   "execution_count": null,
   "metadata": {},
   "outputs": [],
   "source": [
    "# data source\n",
    "data_revised =f'revised_{exp_date}.txt'\n",
    "# female fly heading and led position data\n",
    "df_fly_revised= pd.read_csv(data_revised, names = ['filename','type','MSE','Original Angle','Adjusted Angle','time','led position'],sep = \" \")\n",
    "\n",
    "# compute change over time\n",
    "df_fly_revised['delta-t'] = df_fly_revised['time'] - df_fly_revised['time'][0] \n",
    "\n",
    "# compute LED position in degrees\n",
    "df_fly_revised['led angle'] = np.rad2deg(get_LED_angle_in_rad(df_fly_revised['led position'])) \n",
    "\n",
    "fly_dict_revised = sub_exp_groupv2(df_fly_revised)\n",
    "fly_dict_revised"
   ]
  },
  {
   "cell_type": "code",
   "execution_count": null,
   "metadata": {},
   "outputs": [],
   "source": [
    "# plotting the revised textfile\n",
    "plt.figure(figsize=(36,12))\n",
    "# iterate over the sections\n",
    "for k in list(fly_dict_revised.keys()):\n",
    "    start = fly_dict_revised[k][0]\n",
    "    end = fly_dict_revised[k][1]\n",
    "    # original textfile data\n",
    "    # plt.plot(df_fem_static['delta-t'][start:end],df_fem_static['fly heading'][start:end],color = 'tab:green', linewidth = .8, label = 'Heading')\n",
    "    # revised data\n",
    "    plt.plot(df_fly_revised['delta-t'][start:end],df_fly_revised['Adjusted Angle'][start:end],color = 'tab:blue', linewidth = .8, label = 'Heading')\n",
    "    plt.plot(df_fly_revised['delta-t'][start:end+1],df_fly_revised['led angle'][start:end+1],color = 'tab:red', linewidth = 1, label = 'LED')\n",
    "plt.title(\"Revised Fly Orientation\")\n",
    "plt.xlabel(\"Time\")\n",
    "plt.ylabel(\"Heading/LED Angle\")\n",
    "plt.yticks(np.arange(-180,181,90))\n",
    "plt.savefig(f'figs/{exp_date}_AdjHeading_LEDvSec.png')\n",
    "plt.savefig(f'figs/{exp_date}_AdjHeading_LEDvSec.svg')"
   ]
  },
  {
   "cell_type": "markdown",
   "metadata": {},
   "source": [
    "# New vs Original Plot"
   ]
  },
  {
   "cell_type": "code",
   "execution_count": null,
   "metadata": {},
   "outputs": [],
   "source": [
    "fig, (ax1,ax2) = plt.subplots(2,1,figsize=(36,18))\n",
    "\n",
    "# Main Plot \n",
    "# ax1.plot(df_fly_revised['delta-t'],df_fly_revised['Original Angle'],color = 'k', linewidth = .5, label = 'Heading')\n",
    "ax1.plot(df_fem_static['delta-t'],df_fem_static['fly heading'],color = 'k', linewidth = .5, label = 'Heading')\n",
    "ax1.plot(df_fem_static['delta-t'],df_fem_static['led angle'],color = 'goldenrod', linewidth = 1, label = 'LED')\n",
    "ax1.set_title(\"Fly Trace Original\")\n",
    "ax1.set_xlabel(\"time\")\n",
    "ax1.set_ylabel(\"Heading/LED Angle\")\n",
    "ax1.set_yticks(np.arange(-180,181,90))\n",
    "ax1.legend(loc = \"lower right\")\n",
    "\n",
    "# Offset\n",
    "ax2.plot(df_fly_revised['delta-t'],df_fly_revised['Adjusted Angle'],color = 'k', linewidth = .5, label = 'Heading')\n",
    "ax2.plot(df_fly_revised['delta-t'],df_fly_revised['led angle'],color = 'goldenrod', linewidth = 1, label = 'LED')\n",
    "ax2.set_title(\"Adjusted Fly Trace\")\n",
    "ax2.set_xlabel(\"time\")\n",
    "ax2.set_ylabel(\"Heading/LED Angle\")\n",
    "ax2.set_yticks(np.arange(-180,181,90))\n",
    "ax2.legend(loc = \"lower right\")\n",
    "\n",
    "# Save Figure\n",
    "plt.savefig(f'figs/{exp_date}_OG_AdjHeading.png',facecolor = 'white')\n",
    "plt.savefig(f'figs/{exp_date}_OG_AdjHeading.svg',facecolor = 'white')"
   ]
  },
  {
   "cell_type": "markdown",
   "metadata": {},
   "source": [
    "## Ensure that Original and Adjusted Headings Account for the Wrapping Affect..."
   ]
  },
  {
   "cell_type": "code",
   "execution_count": null,
   "metadata": {},
   "outputs": [],
   "source": [
    "fly_wrap.wrapping_fix(exp_date, df_fem_static,df_fly_revised)"
   ]
  }
 ],
 "metadata": {
  "kernelspec": {
   "display_name": "Python 3 (ipykernel)",
   "language": "python",
   "name": "python3"
  },
  "language_info": {
   "codemirror_mode": {
    "name": "ipython",
    "version": 3
   },
   "file_extension": ".py",
   "mimetype": "text/x-python",
   "name": "python",
   "nbconvert_exporter": "python",
   "pygments_lexer": "ipython3",
   "version": "3.9.5"
  }
 },
 "nbformat": 4,
 "nbformat_minor": 2
}
